{
 "cells": [
  {
   "cell_type": "code",
   "execution_count": null,
   "metadata": {},
   "outputs": [],
   "source": [
    "import pandas as pd\n",
    "import requests\n"
   ]
  },
  {
   "cell_type": "markdown",
   "metadata": {},
   "source": [
    "    Realiza una solicitud a la API de transporte público para obtener información\n",
    "    sobre los buses próximos a un paradero específico.\n",
    "    \n",
    "    Argumentos:\n",
    "    paradero (str): El código del paradero del cual se desea obtener información. \n",
    "                    Por defecto, se utiliza el paradero \"PA184\".\n",
    "    \n",
    "    Retorna:\n",
    "    pd.DataFrame: Un DataFrame con la información obtenida de la API."
   ]
  },
  {
   "cell_type": "code",
   "execution_count": null,
   "metadata": {},
   "outputs": [],
   "source": [
    "def acceso_api(paradero=\"PA184\"):\n",
    "\n",
    "    url = f'https://api.xor.cl/red/bus-stop/{paradero}'\n",
    "    response = requests.get(url)\n",
    "    data = response.json()\n",
    "    df = pd.DataFrame(data)\n",
    "    df_servicios = df['services'].apply(pd.Series)\n",
    "    return df_servicios\n"
   ]
  },
  {
   "cell_type": "markdown",
   "metadata": {},
   "source": [
    "Extrae la información relevante de los buses desde un DataFrame de servicios.\n",
    "\n",
    "Argumentos:\n",
    "df_servicios (pd.DataFrame): El DataFrame con la información de los servicios\n",
    "                                obtenida de la API.\n",
    "\n",
    "Retorna:\n",
    "list: Una lista que contiene los datos de los buses encontrados en el paradero."
   ]
  },
  {
   "cell_type": "code",
   "execution_count": null,
   "metadata": {},
   "outputs": [],
   "source": [
    "def get_buses(df_servicios):\n",
    "    \n",
    "    buses = list()\n",
    "    for i in range(len(df_servicios)):\n",
    "        if df_servicios[\"buses\"][i] != []:\n",
    "            recorrido = df_servicios[\"id\"][i]\n",
    "            estado = df_servicios[\"status_description\"][i]\n",
    "            for bus_info in df_servicios[\"buses\"][i]:\n",
    "                patente = bus_info[\"id\"]\n",
    "                distancia = bus_info[\"meters_distance\"]\n",
    "                min_minimos = bus_info[\"min_arrival_time\"]\n",
    "                min_maximos = bus_info[\"max_arrival_time\"]\n",
    "                buses.append([recorrido, estado, patente,\n",
    "                             distancia, min_minimos, min_maximos])\n",
    "    return buses"
   ]
  },
  {
   "cell_type": "markdown",
   "metadata": {},
   "source": [
    "Crea un DataFrame a partir de la lista de datos de buses obtenida de la API.\n",
    "\n",
    "Argumentos:\n",
    "buses (list): Una lista con los datos de los buses encontrados en el paradero.\n",
    "\n",
    "Retorna:\n",
    "pd.DataFrame: Un DataFrame organizado con la información de los buses, incluyendo\n",
    "                el tiempo promedio de llegada de cada bus."
   ]
  },
  {
   "cell_type": "code",
   "execution_count": null,
   "metadata": {},
   "outputs": [],
   "source": [
    "def crear_dataframe_buses(buses):\n",
    "\n",
    "    df_buses = pd.DataFrame(buses, columns=[\n",
    "                            \"Recorrido\", \"Estado\", \"Patente\", \"Distancia\", \"Min. Mínimos\", \"Min. Máximos\"])\n",
    "    df_buses[\"promedio min\"] = (\n",
    "        df_buses[\"Min. Mínimos\"] + df_buses[\"Min. Máximos\"]) / 2\n",
    "    df_buses[\"promedio min\"] = df_buses[\"promedio min\"].astype(int)\n",
    "    df_buses = df_buses.sort_values(by=[\"Distancia\"], ascending=False)\n",
    "    return df_buses"
   ]
  },
  {
   "cell_type": "markdown",
   "metadata": {},
   "source": [
    "Guarda el DataFrame de buses en un archivo CSV llamado \"buses.csv\".\n",
    "\n",
    "Argumentos:\n",
    "df_buses (pd.DataFrame): El DataFrame con la información de los buses."
   ]
  },
  {
   "cell_type": "code",
   "execution_count": null,
   "metadata": {},
   "outputs": [],
   "source": [
    "def descargar_csv(df_buses):\n",
    "    df_buses.to_csv(\"buses.csv\", index=False, sep=\",\", encoding=\"utf-8\")"
   ]
  },
  {
   "cell_type": "code",
   "execution_count": null,
   "metadata": {},
   "outputs": [],
   "source": [
    "paradero = input(\"Ingrese el paradero: \")\n",
    "df_servicios = acceso_api(paradero)\n",
    "buses = get_buses(df_servicios)\n",
    "df_buses = crear_dataframe_buses(buses)\n",
    "descargar_csv(df_buses)\n"
   ]
  }
 ],
 "metadata": {
  "kernelspec": {
   "display_name": "Python 3",
   "language": "python",
   "name": "python3"
  },
  "language_info": {
   "codemirror_mode": {
    "name": "ipython",
    "version": 3
   },
   "file_extension": ".py",
   "mimetype": "text/x-python",
   "name": "python",
   "nbconvert_exporter": "python",
   "pygments_lexer": "ipython3",
   "version": "3.11.4"
  },
  "orig_nbformat": 4
 },
 "nbformat": 4,
 "nbformat_minor": 2
}
